{
 "cells": [
  {
   "cell_type": "code",
   "execution_count": 1,
   "id": "80ef568a",
   "metadata": {},
   "outputs": [
    {
     "data": {
      "text/plain": [
       "'/home/arya_kumar/full_stack_data_science_files/python_files'"
      ]
     },
     "execution_count": 1,
     "metadata": {},
     "output_type": "execute_result"
    }
   ],
   "source": [
    "pwd()"
   ]
  },
  {
   "cell_type": "code",
   "execution_count": 4,
   "id": "a5098b3a",
   "metadata": {},
   "outputs": [
    {
     "data": {
      "text/plain": [
       "<function dir>"
      ]
     },
     "execution_count": 4,
     "metadata": {},
     "output_type": "execute_result"
    }
   ],
   "source": [
    "dir"
   ]
  },
  {
   "cell_type": "code",
   "execution_count": 6,
   "id": "f6202bd6",
   "metadata": {},
   "outputs": [
    {
     "data": {
      "text/plain": [
       "'normalize()'"
      ]
     },
     "execution_count": 6,
     "metadata": {},
     "output_type": "execute_result"
    }
   ],
   "source": [
    "'normalize()'"
   ]
  },
  {
   "cell_type": "code",
   "execution_count": 1,
   "id": "8b88650a",
   "metadata": {},
   "outputs": [
    {
     "name": "stdout",
     "output_type": "stream",
     "text": [
      "iters-gens-file-sys.ipynb\r\n"
     ]
    }
   ],
   "source": [
    "!ls"
   ]
  },
  {
   "cell_type": "code",
   "execution_count": null,
   "id": "074b2c35",
   "metadata": {},
   "outputs": [],
   "source": [
    "#default file opens in read mode\n",
    "\n",
    "f = open('fiel_name.txt')\n",
    "f.read()\n",
    "f.seek(10) #allows to set cursor to a specific popsiton, then you can call read()\n",
    "f.read() #will now read from 10"
   ]
  },
  {
   "cell_type": "code",
   "execution_count": 4,
   "id": "9d442734",
   "metadata": {},
   "outputs": [],
   "source": [
    "#f.tell() gives cursor position\n",
    "\n",
    "import os"
   ]
  },
  {
   "cell_type": "code",
   "execution_count": null,
   "id": "9db65eb9",
   "metadata": {},
   "outputs": [],
   "source": [
    "os.remove('fiel_name.txt') #del file"
   ]
  },
  {
   "cell_type": "code",
   "execution_count": 5,
   "id": "c2e55a75",
   "metadata": {},
   "outputs": [
    {
     "data": {
      "text/plain": [
       "'/home/arya_kumar/full_stack_data_science_files/python_files'"
      ]
     },
     "execution_count": 5,
     "metadata": {},
     "output_type": "execute_result"
    }
   ],
   "source": [
    "os.getcwd() "
   ]
  },
  {
   "cell_type": "code",
   "execution_count": 6,
   "id": "a20ecadc",
   "metadata": {},
   "outputs": [
    {
     "data": {
      "text/plain": [
       "['.ipynb_checkpoints', 'iters-gens-file-sys.ipynb']"
      ]
     },
     "execution_count": 6,
     "metadata": {},
     "output_type": "execute_result"
    }
   ],
   "source": [
    "os.listdir()"
   ]
  },
  {
   "cell_type": "code",
   "execution_count": null,
   "id": "b82c5dd8",
   "metadata": {},
   "outputs": [],
   "source": []
  }
 ],
 "metadata": {
  "kernelspec": {
   "display_name": "Python 3 (ipykernel)",
   "language": "python",
   "name": "python3"
  },
  "language_info": {
   "codemirror_mode": {
    "name": "ipython",
    "version": 3
   },
   "file_extension": ".py",
   "mimetype": "text/x-python",
   "name": "python",
   "nbconvert_exporter": "python",
   "pygments_lexer": "ipython3",
   "version": "3.9.15"
  }
 },
 "nbformat": 4,
 "nbformat_minor": 5
}
